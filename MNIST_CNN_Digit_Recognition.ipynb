{
  "nbformat": 4,
  "nbformat_minor": 0,
  "metadata": {
    "colab": {
      "provenance": [],
      "gpuType": "T4",
      "authorship_tag": "ABX9TyOEbc1QBcnXbqgLtn8o4mxe",
      "include_colab_link": true
    },
    "kernelspec": {
      "name": "python3",
      "display_name": "Python 3"
    },
    "language_info": {
      "name": "python"
    },
    "accelerator": "GPU"
  },
  "cells": [
    {
      "cell_type": "markdown",
      "metadata": {
        "id": "view-in-github",
        "colab_type": "text"
      },
      "source": [
        "<a href=\"https://colab.research.google.com/github/sgspencer2618/MNIST_CNN_Handwritten_Digit_Recognition/blob/main/MNIST_CNN_Digit_Recognition.ipynb\" target=\"_parent\"><img src=\"https://colab.research.google.com/assets/colab-badge.svg\" alt=\"Open In Colab\"/></a>"
      ]
    },
    {
      "cell_type": "markdown",
      "source": [
        "# **Handwritten Digit Recognition (MNIST) using a Convolutional Neural Network**"
      ],
      "metadata": {
        "id": "PGrgb_DD0bhL"
      }
    },
    {
      "cell_type": "code",
      "execution_count": null,
      "metadata": {
        "id": "55Xvk7KUVaHU"
      },
      "outputs": [],
      "source": [
        "# importing libraries and dependancies\n",
        "import numpy as np\n",
        "import time\n",
        "import math\n",
        "from tensorflow import keras\n",
        "from keras.datasets import mnist\n",
        "from keras.utils import to_categorical\n",
        "from keras.models import Sequential\n",
        "from keras.layers import Dense, Conv2D, Flatten\n",
        "import matplotlib.pyplot as plt"
      ]
    },
    {
      "cell_type": "code",
      "source": [
        "# loading data\n",
        "(x_train, y_train), (x_test, y_test) = mnist.load_data()"
      ],
      "metadata": {
        "id": "62yPFM56WoUG"
      },
      "execution_count": null,
      "outputs": []
    },
    {
      "cell_type": "code",
      "source": [
        "# visualising first training example\n",
        "plt.imshow(x_train[0])"
      ],
      "metadata": {
        "colab": {
          "base_uri": "https://localhost:8080/",
          "height": 447
        },
        "id": "GEHA2hlIWwf3",
        "outputId": "9a7893e2-887d-4aeb-9338-5d0a1f6fecff"
      },
      "execution_count": null,
      "outputs": [
        {
          "output_type": "execute_result",
          "data": {
            "text/plain": [
              "<matplotlib.image.AxesImage at 0x7c81d57a3f10>"
            ]
          },
          "metadata": {},
          "execution_count": 183
        },
        {
          "output_type": "display_data",
          "data": {
            "text/plain": [
              "<Figure size 640x480 with 1 Axes>"
            ],
            "image/png": "[encoded data removed]"
          },
          "metadata": {}
        }
      ]
    },
    {
      "cell_type": "code",
      "source": [
        "# checking training data shape\n",
        "print(x_train[0].shape)"
      ],
      "metadata": {
        "colab": {
          "base_uri": "https://localhost:8080/"
        },
        "id": "BND3Hq1qowQs",
        "outputId": "a918923a-0088-457f-f112-12cca769f36c"
      },
      "execution_count": null,
      "outputs": [
        {
          "output_type": "stream",
          "name": "stdout",
          "text": [
            "(28, 28)\n"
          ]
        }
      ]
    },
    {
      "cell_type": "code",
      "source": [
        "# reshaping data into what the model expects (60,000 training examples, 10,000 testing examples)\n",
        "print(x_train.shape, x_test.shape)\n",
        "\n",
        "x_train = x_train.reshape(x_train.shape[0], 28, 28, 1)\n",
        "x_test =  x_test.reshape(x_test.shape[0], 28, 28, 1)"
      ],
      "metadata": {
        "colab": {
          "base_uri": "https://localhost:8080/"
        },
        "id": "uWkPHVVco6RQ",
        "outputId": "a2f1b03b-edd4-487f-c016-db789cf50781"
      },
      "execution_count": null,
      "outputs": [
        {
          "output_type": "stream",
          "name": "stdout",
          "text": [
            "(60000, 28, 28) (10000, 28, 28)\n"
          ]
        }
      ]
    },
    {
      "cell_type": "code",
      "source": [
        "# one-hot encoding\n",
        "y_train = to_categorical(y_train)\n",
        "y_test = to_categorical(y_test)"
      ],
      "metadata": {
        "id": "9NOh6m14sMgz"
      },
      "execution_count": null,
      "outputs": []
    },
    {
      "cell_type": "code",
      "source": [
        "# Create model\n",
        "model = Sequential()\n",
        "\n",
        "# adding layers to model\n",
        "# I have found that this configuration works well, it reached 99% accuracy in 6 epochs\n",
        "model.add(Conv2D(64, kernel_size=3, activation='relu', input_shape=(28,28,1)))\n",
        "model.add(Flatten())\n",
        "model.add(Dense(64, activation='relu'))\n",
        "model.add(Dense(64, activation='relu'))\n",
        "model.add(Dense(10, activation='softmax'))\n",
        "\n",
        "print(model.summary())"
      ],
      "metadata": {
        "colab": {
          "base_uri": "https://localhost:8080/"
        },
        "id": "_7ucHd5zshOS",
        "outputId": "6d27bf50-ebce-4b11-fb64-45f4932613bb"
      },
      "execution_count": null,
      "outputs": [
        {
          "output_type": "stream",
          "name": "stdout",
          "text": [
            "Model: \"sequential_9\"\n",
            "_________________________________________________________________\n",
            " Layer (type)                Output Shape              Param #   \n",
            "=================================================================\n",
            " conv2d_13 (Conv2D)          (None, 26, 26, 64)        640       \n",
            "                                                                 \n",
            " flatten_9 (Flatten)         (None, 43264)             0         \n",
            "                                                                 \n",
            " dense_22 (Dense)            (None, 64)                2768960   \n",
            "                                                                 \n",
            " dense_23 (Dense)            (None, 64)                4160      \n",
            "                                                                 \n",
            " dense_24 (Dense)            (None, 10)                650       \n",
            "                                                                 \n",
            "=================================================================\n",
            "Total params: 2774410 (10.58 MB)\n",
            "Trainable params: 2774410 (10.58 MB)\n",
            "Non-trainable params: 0 (0.00 Byte)\n",
            "_________________________________________________________________\n",
            "None\n"
          ]
        }
      ]
    },
    {
      "cell_type": "code",
      "source": [
        "# compiling model\n",
        "model.compile(optimizer='adam', loss='categorical_crossentropy', metrics=['accuracy'])\n"
      ],
      "metadata": {
        "id": "LywfnoDIuaYa"
      },
      "execution_count": null,
      "outputs": []
    },
    {
      "cell_type": "code",
      "source": [
        "# training the model\n",
        "model.fit(x_train, y_train, validation_data=(x_test, y_test), epochs=15)"
      ],
      "metadata": {
        "colab": {
          "base_uri": "https://localhost:8080/"
        },
        "id": "1Pdd5vgeu-mU",
        "outputId": "268f4659-1d3b-46e1-8b72-19e71fd561e3"
      },
      "execution_count": null,
      "outputs": [
        {
          "output_type": "stream",
          "name": "stdout",
          "text": [
            "Epoch 1/15\n",
            "1875/1875 [==============================] - 10s 5ms/step - loss: 0.4113 - accuracy: 0.9266 - val_loss: 0.1172 - val_accuracy: 0.9671\n",
            "Epoch 2/15\n",
            "1875/1875 [==============================] - 9s 5ms/step - loss: 0.0858 - accuracy: 0.9755 - val_loss: 0.1166 - val_accuracy: 0.9701\n",
            "Epoch 3/15\n",
            "1875/1875 [==============================] - 8s 4ms/step - loss: 0.0623 - accuracy: 0.9807 - val_loss: 0.0946 - val_accuracy: 0.9744\n",
            "Epoch 4/15\n",
            "1875/1875 [==============================] - 9s 5ms/step - loss: 0.0457 - accuracy: 0.9860 - val_loss: 0.1054 - val_accuracy: 0.9733\n",
            "Epoch 5/15\n",
            "1875/1875 [==============================] - 8s 4ms/step - loss: 0.0368 - accuracy: 0.9893 - val_loss: 0.1378 - val_accuracy: 0.9713\n",
            "Epoch 6/15\n",
            "1875/1875 [==============================] - 8s 4ms/step - loss: 0.0286 - accuracy: 0.9916 - val_loss: 0.1625 - val_accuracy: 0.9703\n",
            "Epoch 7/15\n",
            "1875/1875 [==============================] - 10s 5ms/step - loss: 0.0243 - accuracy: 0.9927 - val_loss: 0.1598 - val_accuracy: 0.9729\n",
            "Epoch 8/15\n",
            "1875/1875 [==============================] - 11s 6ms/step - loss: 0.0194 - accuracy: 0.9941 - val_loss: 0.1712 - val_accuracy: 0.9738\n",
            "Epoch 9/15\n",
            "1875/1875 [==============================] - 8s 5ms/step - loss: 0.0199 - accuracy: 0.9944 - val_loss: 0.1606 - val_accuracy: 0.9743\n",
            "Epoch 10/15\n",
            "1875/1875 [==============================] - 9s 5ms/step - loss: 0.0184 - accuracy: 0.9949 - val_loss: 0.1639 - val_accuracy: 0.9718\n",
            "Epoch 11/15\n",
            "1875/1875 [==============================] - 9s 5ms/step - loss: 0.0157 - accuracy: 0.9961 - val_loss: 0.1839 - val_accuracy: 0.9749\n",
            "Epoch 12/15\n",
            "1875/1875 [==============================] - 8s 4ms/step - loss: 0.0163 - accuracy: 0.9962 - val_loss: 0.2107 - val_accuracy: 0.9726\n",
            "Epoch 13/15\n",
            "1875/1875 [==============================] - 9s 5ms/step - loss: 0.0121 - accuracy: 0.9968 - val_loss: 0.1957 - val_accuracy: 0.9764\n",
            "Epoch 14/15\n",
            "1875/1875 [==============================] - 8s 4ms/step - loss: 0.0117 - accuracy: 0.9970 - val_loss: 0.2029 - val_accuracy: 0.9750\n",
            "Epoch 15/15\n",
            "1875/1875 [==============================] - 8s 4ms/step - loss: 0.0126 - accuracy: 0.9968 - val_loss: 0.2032 - val_accuracy: 0.9753\n"
          ]
        },
        {
          "output_type": "execute_result",
          "data": {
            "text/plain": [
              "<keras.src.callbacks.History at 0x7c81d572bdf0>"
            ]
          },
          "metadata": {},
          "execution_count": 189
        }
      ]
    },
    {
      "cell_type": "code",
      "source": [
        "num_predict = 8\n",
        "predictions = model.predict(x_test[:num_predict])"
      ],
      "metadata": {
        "colab": {
          "base_uri": "https://localhost:8080/"
        },
        "id": "xSfn4aPPvzR9",
        "outputId": "f7636b47-a36f-41aa-8c85-563d518e2c52"
      },
      "execution_count": null,
      "outputs": [
        {
          "output_type": "stream",
          "name": "stdout",
          "text": [
            "1/1 [==============================] - 0s 59ms/step\n"
          ]
        }
      ]
    },
    {
      "cell_type": "code",
      "source": [
        "# print predictions\n",
        "print(predictions)"
      ],
      "metadata": {
        "colab": {
          "base_uri": "https://localhost:8080/"
        },
        "id": "wOJomBeTzgrm",
        "outputId": "d7fdbad3-a5c3-41f9-a74b-41d9ba4ce255"
      },
      "execution_count": null,
      "outputs": [
        {
          "output_type": "stream",
          "name": "stdout",
          "text": [
            "[[6.1115968e-15 2.7917748e-12 3.1528360e-10 3.3225010e-11 2.7924309e-15\n",
            "  6.1366372e-16 4.2015371e-24 9.9999976e-01 2.4163549e-13 2.5269898e-07]\n",
            " [7.2660571e-18 3.7643090e-17 1.0000000e+00 4.1460668e-17 4.6699965e-27\n",
            "  2.9245085e-25 7.6982793e-22 6.9497749e-15 2.3941842e-16 3.7808205e-22]\n",
            " [9.8369488e-20 1.0000000e+00 4.2905419e-23 4.5228096e-28 1.9658427e-14\n",
            "  9.5433308e-18 4.7488604e-20 5.7639737e-26 1.3646856e-16 3.0607859e-22]\n",
            " [1.0000000e+00 1.6587167e-19 4.1094862e-18 5.1026472e-25 1.3749186e-21\n",
            "  1.3904911e-18 2.0429612e-17 1.0838016e-15 3.8762673e-17 1.6023880e-18]\n",
            " [8.0024095e-22 1.1369160e-14 4.0026026e-13 2.4409818e-27 1.0000000e+00\n",
            "  5.1122498e-26 4.4973400e-16 6.1586529e-18 1.5068966e-17 2.5185823e-12]\n",
            " [2.8841273e-24 1.0000000e+00 6.1446452e-25 9.7512891e-33 4.0394804e-19\n",
            "  4.4544363e-22 4.6908347e-26 7.8704451e-29 1.1108324e-16 2.7043507e-22]\n",
            " [3.5284068e-20 7.1674729e-11 3.4102844e-14 1.1737053e-19 1.0000000e+00\n",
            "  1.9244638e-16 1.2560443e-13 8.0280682e-13 1.8215603e-11 3.7849543e-11]\n",
            " [6.6643712e-20 4.5737333e-20 1.0954257e-18 1.9542582e-13 1.7938991e-17\n",
            "  4.0418436e-13 5.5941887e-17 2.7218588e-17 3.3620401e-10 1.0000000e+00]]\n"
          ]
        }
      ]
    },
    {
      "cell_type": "code",
      "source": [
        "# compare with truth labels\n",
        "# using matplotlib to display the test images with truth labels and predicted values\n",
        "fig = plt.figure(figsize=(10, math.ceil(num_predict / 3) ** 2 * 3.5))\n",
        "rows = math.ceil(num_predict)\n",
        "columns = 3\n",
        "\n",
        "for i in range(1,num_predict + 1):\n",
        "  fig.add_subplot(rows, columns, i)\n",
        "  plt.imshow(x_test[i-1])\n",
        "  plt.axis('off')\n",
        "  plt.title(f'x_test[{(i - 1)}] (Model Prediction: {np.argmax(predictions[i - 1])})')\n",
        "  plt.text(7, 30, f\"Truth Label: {np.argmax(y_test[i - 1])}\")\n",
        "\n",
        "predictions_print = [np.argmax(x) for x in predictions]\n",
        "print(\"Predictions: \" + str(predictions_print))\n",
        "\n",
        "print(\"Real Values: \" + str([np.argmax(x) for x in y_test[:num_predict]]))"
      ],
      "metadata": {
        "colab": {
          "base_uri": "https://localhost:8080/",
          "height": 964
        },
        "id": "knbGQjgewM9C",
        "outputId": "dbcea70b-ed63-4bfd-9b0b-c450d27fa190"
      },
      "execution_count": null,
      "outputs": [
        {
          "output_type": "stream",
          "name": "stdout",
          "text": [
            "Predictions: [7, 2, 1, 0, 4, 1, 4, 9]\n",
            "Real Values: [7, 2, 1, 0, 4, 1, 4, 9]\n"
          ]
        },
        {
          "output_type": "display_data",
          "data": {
            "text/plain": [
              "<Figure size 1000x3150 with 8 Axes>"
            ],
            "image/png": "[encoded data removed]"
          },
          "metadata": {}
        }
      ]
    }
  ]
}